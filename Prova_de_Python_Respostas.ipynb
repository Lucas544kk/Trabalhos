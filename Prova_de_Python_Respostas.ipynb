{
  "nbformat": 4,
  "nbformat_minor": 0,
  "metadata": {
    "colab": {
      "name": "Prova de Python Respostas.ipynb",
      "provenance": [],
      "authorship_tag": "ABX9TyMbUhCO92gFFNRqkV62au8v",
      "include_colab_link": true
    },
    "kernelspec": {
      "name": "python3",
      "display_name": "Python 3"
    },
    "language_info": {
      "name": "python"
    }
  },
  "cells": [
    {
      "cell_type": "markdown",
      "metadata": {
        "id": "view-in-github",
        "colab_type": "text"
      },
      "source": [
        "<a href=\"https://colab.research.google.com/github/Lucas544kk/Trabalhos/blob/main/Prova_de_Python_Respostas.ipynb\" target=\"_parent\"><img src=\"https://colab.research.google.com/assets/colab-badge.svg\" alt=\"Open In Colab\"/></a>"
      ]
    },
    {
      "cell_type": "markdown",
      "source": [
        "Avaliação de Python \n",
        "Nome: Data 12/05/2022 E-mail instucional: lucas.machado.30@fatec.sp.gov.br"
      ],
      "metadata": {
        "id": "mkCjTlnls1TW"
      }
    },
    {
      "cell_type": "markdown",
      "source": [
        "1-) Pois ela delimita ao python os blocos de comando que ele deve interpretar e realizar."
      ],
      "metadata": {
        "id": "4Vk5HGZZssC_"
      }
    },
    {
      "cell_type": "markdown",
      "source": [
        "2-) Significa que ela analisa o código fonte e o interpreta, traduzindo-o para uma “linguagem” na qual a máquina entenda."
      ],
      "metadata": {
        "id": "WJThxOAnssfY"
      }
    },
    {
      "cell_type": "markdown",
      "source": [
        "3-) Quer dizer que suas variáveis podem armazenar qualquer tipo de valor, porém se quisermos podemos escolher qual tipo de variável ela vai ter."
      ],
      "metadata": {
        "id": "wNfp7Vl5srJn"
      }
    },
    {
      "cell_type": "markdown",
      "source": [
        "4-) É o senão do portugol, ou seja, se uma condição não for verdadeira ela irá fazer outra instrução e verificar se a mesma é verdadeira ou não."
      ],
      "metadata": {
        "id": "s1mqEn7ns7sQ"
      }
    },
    {
      "cell_type": "code",
      "source": [
        "valor = float(input('Digite o valor do produto: '))\n",
        "desconto = valor*0.05\n",
        "print('O preço com desconto é de: ',desconto)"
      ],
      "metadata": {
        "id": "s1ON6-Ans8Ry"
      },
      "execution_count": null,
      "outputs": []
    },
    {
      "cell_type": "code",
      "source": [
        "num = int(input('Digite o primeiro número inteiro: '))\n",
        "num2 = int(input('Digite o segundo número inteiro: '))\n",
        "if num > num2:\n",
        "  print('O primeiro valor é maior')\n",
        "elif num == num2:\n",
        "  print('Não existe valor maior, os dois são iguais')\n",
        "else:\n",
        "  print('O segundo valor é maior')"
      ],
      "metadata": {
        "id": "EQhijXN0XuVd"
      },
      "execution_count": null,
      "outputs": []
    },
    {
      "cell_type": "code",
      "source": [
        "cont = 1001\n",
        "while cont > 100:\n",
        "  cont = cont//2\n",
        "  print(cont)"
      ],
      "metadata": {
        "id": "J1IonvHlZNKW"
      },
      "execution_count": null,
      "outputs": []
    },
    {
      "cell_type": "markdown",
      "source": [
        "8-) (a) Aluno 3"
      ],
      "metadata": {
        "id": "EoClSv3ZbiKO"
      }
    },
    {
      "cell_type": "code",
      "source": [
        "i = 0\n",
        "lista_mulheres = []\n",
        "lista_homens = []\n",
        "lista_chocolate = []\n",
        "while i < 10:\n",
        "  pessoas = str(input('Digite o seu gênero: '))\n",
        "  if pessoas == 'Mulher':\n",
        "    lista_mulheres.append(pessoas)\n",
        "  if pessoas == 'Homem':\n",
        "    lista_homens.append(pessoas)\n",
        "  chocolate = str(input('Você gosta de chocolate? '))\n",
        "  if chocolate == \"Sim\":\n",
        "     lista_chocolate.append(chocolate)\n",
        "  i +=1\n",
        "print('O total de homens e mulheres que gostam de chocolate são ',len(lista_chocolate))"
      ],
      "metadata": {
        "id": "83BKnR0Tb_se"
      },
      "execution_count": null,
      "outputs": []
    },
    {
      "cell_type": "code",
      "source": [
        "num1 = float(input('Digite o primeiro número: '))\n",
        "num2 = float(input('Digite o segundo número: '))\n",
        "num3 = float(input('Digite o terceiro número: '))\n",
        "maior = num1\n",
        "if num2 > maior:\n",
        "  maior = num2\n",
        "if num3 > maior:\n",
        "  maior = num3\n",
        "menor = num1\n",
        "if num2 < menor:\n",
        "  menor = num2\n",
        "if num3 < menor:\n",
        "  menor < num3\n",
        "print('O maior número é ',maior,'e o menor é ',menor)"
      ],
      "metadata": {
        "id": "nku7AZRte0VB"
      },
      "execution_count": null,
      "outputs": []
    }
  ]
}