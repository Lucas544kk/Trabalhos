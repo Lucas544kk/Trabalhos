{
  "nbformat": 4,
  "nbformat_minor": 0,
  "metadata": {
    "colab": {
      "name": "Lista exercícios.ipynb",
      "provenance": [],
      "authorship_tag": "ABX9TyM+2aAo5kMmmkSLGv2Qxkng",
      "include_colab_link": true
    },
    "kernelspec": {
      "name": "python3",
      "display_name": "Python 3"
    },
    "language_info": {
      "name": "python"
    }
  },
  "cells": [
    {
      "cell_type": "markdown",
      "metadata": {
        "id": "view-in-github",
        "colab_type": "text"
      },
      "source": [
        "<a href=\"https://colab.research.google.com/github/Lucas544kk/Trabalhos/blob/main/Lista_exerc%C3%ADcios.ipynb\" target=\"_parent\"><img src=\"https://colab.research.google.com/assets/colab-badge.svg\" alt=\"Open In Colab\"/></a>"
      ]
    },
    {
      "cell_type": "markdown",
      "source": [
        "1)"
      ],
      "metadata": {
        "id": "LnBfmxrEwp9t"
      }
    },
    {
      "cell_type": "code",
      "source": [
        "for i in range(1,100):\n",
        "  nome = str(input('Escreva o nome do aluno: '))\n",
        "  p1 = float(input('Escreva a nota da p1: '))\n",
        "  p2 = float(input('Escreva a nota da p2: '))\n",
        "  mf = (p1+p2)/2\n",
        "  print('A média do aluno é: ', mf)\n",
        "\n"
      ],
      "metadata": {
        "id": "Xf2LvZ5pwrdj"
      },
      "execution_count": null,
      "outputs": []
    },
    {
      "cell_type": "markdown",
      "source": [
        "2)"
      ],
      "metadata": {
        "id": "_LjV7MatwFVN"
      }
    },
    {
      "cell_type": "code",
      "source": [
        "cont = 100\n",
        "while cont > 0:\n",
        "  cont = cont-1\n",
        "  print(cont)"
      ],
      "metadata": {
        "id": "nEerT6a2ucoP"
      },
      "execution_count": null,
      "outputs": []
    },
    {
      "cell_type": "markdown",
      "source": [
        "3)"
      ],
      "metadata": {
        "id": "3YcvO4o-wMCl"
      }
    },
    {
      "cell_type": "code",
      "source": [
        "cont = 0\n",
        "while cont < 100:\n",
        "  cont = cont+2\n",
        "  print(cont)"
      ],
      "metadata": {
        "id": "Ome_nvWqwEmG"
      },
      "execution_count": null,
      "outputs": []
    },
    {
      "cell_type": "markdown",
      "source": [
        "4)"
      ],
      "metadata": {
        "id": "XILpm8ip2FL-"
      }
    },
    {
      "cell_type": "code",
      "source": [
        "cont = 0\n",
        "total = 0\n",
        "while cont < 10:\n",
        "  cont = cont+1\n",
        "  num = int(input('Escreva algum numero: '))\n",
        "  if num < 0:\n",
        "    total = total+1\n",
        "print('O total de numeros ìmpares é: ',total)\n",
        "    \n",
        "    "
      ],
      "metadata": {
        "id": "yi5Y8YKL2GOG"
      },
      "execution_count": null,
      "outputs": []
    },
    {
      "cell_type": "markdown",
      "source": [
        "5)"
      ],
      "metadata": {
        "id": "GR1ZjhM67IrS"
      }
    },
    {
      "cell_type": "code",
      "source": [
        ""
      ],
      "metadata": {
        "id": "XhUjfPtM7JiK"
      },
      "execution_count": null,
      "outputs": []
    }
  ]
}