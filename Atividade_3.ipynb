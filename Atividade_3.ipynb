{
  "nbformat": 4,
  "nbformat_minor": 0,
  "metadata": {
    "colab": {
      "name": "Atividade 3.ipynb",
      "provenance": [],
      "authorship_tag": "ABX9TyMCoSpaU42VBGW/EomxDGgZ",
      "include_colab_link": true
    },
    "kernelspec": {
      "name": "python3",
      "display_name": "Python 3"
    },
    "language_info": {
      "name": "python"
    }
  },
  "cells": [
    {
      "cell_type": "markdown",
      "metadata": {
        "id": "view-in-github",
        "colab_type": "text"
      },
      "source": [
        "<a href=\"https://colab.research.google.com/github/Lucas544kk/Trabalhos/blob/main/Atividade_3.ipynb\" target=\"_parent\"><img src=\"https://colab.research.google.com/assets/colab-badge.svg\" alt=\"Open In Colab\"/></a>"
      ]
    },
    {
      "cell_type": "markdown",
      "source": [
        "1)"
      ],
      "metadata": {
        "id": "zh3MDD0exssb"
      }
    },
    {
      "cell_type": "code",
      "execution_count": 2,
      "metadata": {
        "colab": {
          "base_uri": "https://localhost:8080/"
        },
        "id": "cxlOUTdQrCPy",
        "outputId": "fa5eb55d-c3f3-40f2-91a0-11eec8567c68"
      },
      "outputs": [
        {
          "output_type": "stream",
          "name": "stdout",
          "text": [
            "A soma dos número é 15 a multiplicação é 120 e os números são [1, 2, 3, 4, 5]\n"
          ]
        }
      ],
      "source": [
        "lista = [1,2,3,4,5]\n",
        "soma = 0\n",
        "mult = 1\n",
        "for var in lista:\n",
        "  soma += var\n",
        "  mult *= var\n",
        "print('A soma dos número é', soma,'a multiplicação é', mult,'e os números são',lista)\n",
        "\n"
      ]
    },
    {
      "cell_type": "markdown",
      "source": [
        "2)"
      ],
      "metadata": {
        "id": "nbis-uAgxu5h"
      }
    },
    {
      "cell_type": "code",
      "source": [
        "lista = [['Lucas','Pedro','Paulo','Matheus'],[[1],[5],[3],[10]],[[4],[8],[6],[10]]]\n",
        "for var in lista:\n",
        "  print(var)\n",
        "  "
      ],
      "metadata": {
        "colab": {
          "base_uri": "https://localhost:8080/"
        },
        "id": "A5NO4UYIxvoq",
        "outputId": "3c420197-0b2f-4d6d-ab93-37b6840a1d06"
      },
      "execution_count": 24,
      "outputs": [
        {
          "output_type": "stream",
          "name": "stdout",
          "text": [
            "['Lucas', 'Pedro', 'Paulo', 'Matheus']\n",
            "[[1], [5], [3], [10]]\n",
            "[[4], [8], [6], [10]]\n"
          ]
        }
      ]
    }
  ]
}